{
 "cells": [
  {
   "cell_type": "markdown",
   "metadata": {},
   "source": [
    "# AI Assignment 1 - Jared Wilson\n",
    "\n",
    "### Implementing Graph:\n",
    "While the two questions are working with different types of search methods, both perform their respective searches on the same graph. Therefore, the first thing that we should do is initialize our graph.\n"
   ]
  },
  {
   "cell_type": "code",
   "execution_count": 1,
   "metadata": {},
   "outputs": [],
   "source": [
    "graph = {\n",
    "  \"A\": [\"B\", \"C\"],\n",
    "  \"B\": [\"A\", \"C\", \"D\"],\n",
    "  \"C\": [\"A\", \"B\", \"D\", \"E\"],\n",
    "  \"D\": [\"B\", \"C\", \"E\", \"F\"],\n",
    "  \"E\": [\"C\", \"D\", \"F\"],\n",
    "  \"F\": [\"D\", \"E\"] \n",
    "}"
   ]
  },
  {
   "cell_type": "markdown",
   "metadata": {},
   "source": [
    "# BFS Implementation\n",
    "### Initializing Dictionaries/Lists\n",
    "When preparing to code our BFS search, the first step is to create some empty dictionaries that will have values placed inside of them during the search process.  I have included comments explaining the purpose of each dictionary.  Additionally, I will be using the queue data structure in my implementation of the search.  Therefore, I must import the data structure before it can be used.\n"
   ]
  },
  {
   "cell_type": "code",
   "execution_count": 2,
   "metadata": {},
   "outputs": [],
   "source": [
    "from queue import Queue\n",
    "\n",
    "visited = {} # This keeps track of the nodes that have been visited\n",
    "result = [] # This will give us our final result of our BFS search\n",
    "queue = Queue() # This will be used later during our search process"
   ]
  },
  {
   "cell_type": "markdown",
   "metadata": {},
   "source": [
    "### Setting Initial Values\n",
    "For some of these dictionaries we just initialized, we want to put each of our nodes from the graph into these dictionaries, with each given a default value.  These default values will be altered as we traverse through our search."
   ]
  },
  {
   "cell_type": "code",
   "execution_count": 3,
   "metadata": {},
   "outputs": [],
   "source": [
    "for node in graph.keys():\n",
    "    visited[node] = False # We want this initialized as false, since no nodes have been visited yet\n",
    "    "
   ]
  },
  {
   "cell_type": "markdown",
   "metadata": {},
   "source": [
    "## Defining Source Node\n",
    "Next, we will need to define our source node, as well as changing some characteristics of the node that differ from what we initialized for values of all nodes initially.  Finally, we want to put our source node in as the first value of our queue."
   ]
  },
  {
   "cell_type": "code",
   "execution_count": 4,
   "metadata": {},
   "outputs": [],
   "source": [
    "source = \"A\"\n",
    "visited[source] = True # Since this is the node we start at, we want it marked as visited\n",
    "queue.put(source) # This puts our source node as the first value of our queue"
   ]
  },
  {
   "cell_type": "markdown",
   "metadata": {},
   "source": [
    "## Iterating Through Graph\n",
    "Now, we will implement a while loop in order to traverse through our graph and find our BFS search order."
   ]
  },
  {
   "cell_type": "code",
   "execution_count": 5,
   "metadata": {},
   "outputs": [],
   "source": [
    "while not queue.empty(): # We want to iterate through our loop until every node has been traversed\n",
    "    node = queue.get() # This will get our next node from the queue and save it to a variable\n",
    "    result.append(node) # This will add the next appropriate node into our answer\n",
    "    \n",
    "    for vertex in graph[node]: # We want to traverse every vertex for each node in our graph\n",
    "        if not visited[vertex]: # We only want to examine the vertexes that haven't been traversed\n",
    "            visited[vertex] = True # We set the vertex to visited so we know not to examine it again\n",
    "            queue.put(vertex) # This puts the vertex we visited into the node"
   ]
  },
  {
   "cell_type": "markdown",
   "metadata": {},
   "source": [
    "## Print Result\n",
    "\n",
    "Since we now have iterated through our graph, it is time for us to print our result.  This will give us the order of our BFS search."
   ]
  },
  {
   "cell_type": "code",
   "execution_count": 6,
   "metadata": {},
   "outputs": [
    {
     "name": "stdout",
     "output_type": "stream",
     "text": [
      "['A', 'B', 'C', 'D', 'E', 'F']\n"
     ]
    }
   ],
   "source": [
    "print(result)"
   ]
  },
  {
   "cell_type": "markdown",
   "metadata": {},
   "source": [
    "## DFS Implementation\n",
    "### Recursive Algorithm\n",
    "For the DFS search, I will be using a recursive algorithm.  I will be using a function that calls itself inside the function.  "
   ]
  },
  {
   "cell_type": "markdown",
   "metadata": {},
   "source": [
    "## Re-initialize Dictionary/List \n",
    "Similar to BFS, I will be keeping track of the nodes that are visited during the algorithm.  However, we will be changing the type of visited from a dictionary to a list. The result list will also be reinitialized so that it is empty.  Even though we will be using source in our function, we do not need to re-initialize it, since its value has not changed"
   ]
  },
  {
   "cell_type": "code",
   "execution_count": 7,
   "metadata": {},
   "outputs": [],
   "source": [
    "graph = {\n",
    "    \"A\": [\"B\", \"C\"],\n",
    "    \"B\": [\"A\", \"C\", \"D\"],\n",
    "    \"C\": [\"A\", \"B\", \"D\", \"E\"],\n",
    "    \"D\": [\"B\", \"C\", \"E\", \"F\"],\n",
    "    \"E\": [\"C\", \"D\", \"F\"],\n",
    "    \"F\": [\"D\", \"E\"] \n",
    "}\n",
    "result = [] # This will be used to save our results in the recursive function\n",
    "visited = [] # This will be used to track whether each node has been visited so we do not repeat"
   ]
  },
  {
   "cell_type": "markdown",
   "metadata": {},
   "source": [
    "### Recursive Function\n",
    "This is my recursive function I implemented for the DFS search.  This methods works by starting at the first node in the graph and working through each node.  First, the function checks to see if the node has been visited.  If the node has already been visited, we move to the next node, since we do not want to examine a node once it has already been visited once.  If the node has not been visited, we want to append it to our result list, since we know this means it comes next in the order.  After that, we want to add the node to our visited list so that we know not to visit it again.  After doing this for the node, we next want to check its vertexes, to see if they have been visited.  If they have not, we go through the same process.  Finally, this loop will continue until all nodes have been visited."
   ]
  },
  {
   "cell_type": "code",
   "execution_count": 8,
   "metadata": {},
   "outputs": [],
   "source": [
    "def dfs(visited, graph, node):\n",
    "    if node not in visited:\n",
    "        result.append(node)\n",
    "        visited.append(node)\n",
    "        for neighbour in graph[node]:\n",
    "            dfs(visited, graph, neighbour)\n",
    "    return result"
   ]
  },
  {
   "cell_type": "markdown",
   "metadata": {},
   "source": [
    "### Print Result\n",
    "Now that I have implemented the necessary code for the DFS search, all that is left to do is to run the function with the appropriate variables, and print the results"
   ]
  },
  {
   "cell_type": "code",
   "execution_count": 10,
   "metadata": {},
   "outputs": [
    {
     "name": "stdout",
     "output_type": "stream",
     "text": [
      "['A', 'B', 'C', 'D', 'E', 'F']\n"
     ]
    }
   ],
   "source": [
    "print(dfs(visited, graph, source))"
   ]
  },
  {
   "cell_type": "markdown",
   "metadata": {},
   "source": [
    "## Final Takeaways\n",
    "\n",
    "It is very interesting to see that while each of these two search methods perform very differently, they actually came up with the same order in this situation.  However, this will almost never be the case with other graphs.  However, this is due to the unique fact that if you went through the graph, each letter starting with A was connected to the next letter in the alphabet.  If you take away this connection between any two consecutive letters, we would've seen different results from the DFS search."
   ]
  }
 ],
 "metadata": {
  "kernelspec": {
   "display_name": "Python 3",
   "language": "python",
   "name": "python3"
  },
  "language_info": {
   "codemirror_mode": {
    "name": "ipython",
    "version": 3
   },
   "file_extension": ".py",
   "mimetype": "text/x-python",
   "name": "python",
   "nbconvert_exporter": "python",
   "pygments_lexer": "ipython3",
   "version": "3.8.3"
  }
 },
 "nbformat": 4,
 "nbformat_minor": 4
}
